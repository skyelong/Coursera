{
  "nbformat": 4,
  "nbformat_minor": 0,
  "metadata": {
    "kernelspec": {
      "display_name": "Python 3 (UM)",
      "language": "python",
      "name": "logging"
    },
    "language_info": {
      "file_extension": ".py",
      "mimetype": "text/x-python",
      "name": "python"
    },
    "colab": {
      "name": "Week+1.ipynb",
      "provenance": [],
      "include_colab_link": true
    }
  },
  "cells": [
    {
      "cell_type": "markdown",
      "metadata": {
        "id": "view-in-github",
        "colab_type": "text"
      },
      "source": [
        "<a href=\"https://colab.research.google.com/github/skyelong/Coursera/blob/master/Week%2B1.ipynb\" target=\"_parent\"><img src=\"https://colab.research.google.com/assets/colab-badge.svg\" alt=\"Open In Colab\"/></a>"
      ]
    },
    {
      "cell_type": "markdown",
      "metadata": {
        "id": "giTp-bv-ALdt",
        "colab_type": "text"
      },
      "source": [
        "---\n",
        "\n",
        "_You are currently looking at **version 1.1** of this notebook. To download notebooks and datafiles, as well as get help on Jupyter notebooks in the Coursera platform, visit the [Jupyter Notebook FAQ](https://www.coursera.org/learn/python-data-analysis/resources/0dhYG) course resource._\n",
        "\n",
        "---"
      ]
    },
    {
      "cell_type": "markdown",
      "metadata": {
        "id": "sP8PxPbeALdx",
        "colab_type": "text"
      },
      "source": [
        "# The Python Programming Language: Functions"
      ]
    },
    {
      "cell_type": "markdown",
      "metadata": {
        "id": "ZmS9xmh2ALdz",
        "colab_type": "text"
      },
      "source": [
        "<br>\n",
        "`add_numbers` is a function that takes two numbers and adds them together."
      ]
    },
    {
      "cell_type": "code",
      "metadata": {
        "id": "GyAz2VRKALd1",
        "colab_type": "code",
        "colab": {},
        "outputId": "54c176f9-da1e-4a13-bdef-9a16eb0bcfac"
      },
      "source": [
        "def add_numbers(x, y):\n",
        "    return x + y\n",
        "\n",
        "add_numbers(1, 2)"
      ],
      "execution_count": 0,
      "outputs": [
        {
          "output_type": "execute_result",
          "data": {
            "text/plain": [
              "3"
            ]
          },
          "metadata": {
            "tags": []
          },
          "execution_count": 1
        }
      ]
    },
    {
      "cell_type": "markdown",
      "metadata": {
        "id": "Lh5H5tiWALd8",
        "colab_type": "text"
      },
      "source": [
        "<br>\n",
        "`add_numbers` updated to take an optional 3rd parameter. Using `print` allows printing of multiple expressions within a single cell."
      ]
    },
    {
      "cell_type": "code",
      "metadata": {
        "id": "rNG82tD2ALd-",
        "colab_type": "code",
        "colab": {}
      },
      "source": [
        "def add_numbers(x,y,z=None):\n",
        "    if (z==None):\n",
        "        return x+y\n",
        "    else:\n",
        "        return x+y+z\n",
        "\n",
        "print(add_numbers(1, 2))\n",
        "print(add_numbers(1, 2, 3))"
      ],
      "execution_count": 0,
      "outputs": []
    },
    {
      "cell_type": "markdown",
      "metadata": {
        "id": "fWvzqbrLALeC",
        "colab_type": "text"
      },
      "source": [
        "<br>\n",
        "`add_numbers` updated to take an optional flag parameter."
      ]
    },
    {
      "cell_type": "code",
      "metadata": {
        "id": "sxp--Kz-ALeD",
        "colab_type": "code",
        "colab": {}
      },
      "source": [
        "def add_numbers(x, y, z=None, flag=False):\n",
        "    if (flag):\n",
        "        print('Flag is true!')\n",
        "    if (z==None):\n",
        "        return x + y\n",
        "    else:\n",
        "        return x + y + z\n",
        "    \n",
        "print(add_numbers(1, 2, flag=True))"
      ],
      "execution_count": 0,
      "outputs": []
    },
    {
      "cell_type": "markdown",
      "metadata": {
        "id": "GTbWJr-FALeI",
        "colab_type": "text"
      },
      "source": [
        "<br>\n",
        "Assign function `add_numbers` to variable `a`."
      ]
    },
    {
      "cell_type": "code",
      "metadata": {
        "id": "kCLs-hPZALeK",
        "colab_type": "code",
        "colab": {}
      },
      "source": [
        "def add_numbers(x,y):\n",
        "    return x+y\n",
        "\n",
        "a = add_numbers\n",
        "a(1,2)"
      ],
      "execution_count": 0,
      "outputs": []
    },
    {
      "cell_type": "markdown",
      "metadata": {
        "id": "tfZqxMghALeO",
        "colab_type": "text"
      },
      "source": [
        "<br>\n",
        "# The Python Programming Language: Types and Sequences"
      ]
    },
    {
      "cell_type": "markdown",
      "metadata": {
        "id": "JITaXAQUALeQ",
        "colab_type": "text"
      },
      "source": [
        "<br>\n",
        "Use `type` to return the object's type."
      ]
    },
    {
      "cell_type": "code",
      "metadata": {
        "id": "UiK1ROceALeR",
        "colab_type": "code",
        "colab": {}
      },
      "source": [
        "type('This is a string')"
      ],
      "execution_count": 0,
      "outputs": []
    },
    {
      "cell_type": "code",
      "metadata": {
        "id": "4SBah0w0ALeV",
        "colab_type": "code",
        "colab": {}
      },
      "source": [
        "type(None)"
      ],
      "execution_count": 0,
      "outputs": []
    },
    {
      "cell_type": "code",
      "metadata": {
        "id": "qUm6MgxFALeZ",
        "colab_type": "code",
        "colab": {}
      },
      "source": [
        "type(1)"
      ],
      "execution_count": 0,
      "outputs": []
    },
    {
      "cell_type": "code",
      "metadata": {
        "id": "ZoY7dU_XALed",
        "colab_type": "code",
        "colab": {}
      },
      "source": [
        "type(1.0)"
      ],
      "execution_count": 0,
      "outputs": []
    },
    {
      "cell_type": "code",
      "metadata": {
        "id": "QQw78O9pALeg",
        "colab_type": "code",
        "colab": {}
      },
      "source": [
        "type(add_numbers)"
      ],
      "execution_count": 0,
      "outputs": []
    },
    {
      "cell_type": "markdown",
      "metadata": {
        "id": "XGHmTsZlALej",
        "colab_type": "text"
      },
      "source": [
        "<br>\n",
        "Tuples are an immutable data structure (cannot be altered)."
      ]
    },
    {
      "cell_type": "code",
      "metadata": {
        "id": "erwIzrnsALek",
        "colab_type": "code",
        "colab": {}
      },
      "source": [
        "x = (1, 'a', 2, 'b')\n",
        "type(x)"
      ],
      "execution_count": 0,
      "outputs": []
    },
    {
      "cell_type": "markdown",
      "metadata": {
        "id": "MEFlulfSALeo",
        "colab_type": "text"
      },
      "source": [
        "<br>\n",
        "Lists are a mutable data structure."
      ]
    },
    {
      "cell_type": "code",
      "metadata": {
        "id": "tKDr7BR7ALep",
        "colab_type": "code",
        "colab": {}
      },
      "source": [
        "x = [1, 'a', 2, 'b']\n",
        "type(x)"
      ],
      "execution_count": 0,
      "outputs": []
    },
    {
      "cell_type": "markdown",
      "metadata": {
        "id": "0xrZGqhsALeu",
        "colab_type": "text"
      },
      "source": [
        "<br>\n",
        "Use `append` to append an object to a list."
      ]
    },
    {
      "cell_type": "code",
      "metadata": {
        "id": "PoLjT3A2ALev",
        "colab_type": "code",
        "colab": {}
      },
      "source": [
        "x.append(3.3)\n",
        "print(x)"
      ],
      "execution_count": 0,
      "outputs": []
    },
    {
      "cell_type": "markdown",
      "metadata": {
        "id": "l7WYzNukALey",
        "colab_type": "text"
      },
      "source": [
        "<br>\n",
        "This is an example of how to loop through each item in the list."
      ]
    },
    {
      "cell_type": "code",
      "metadata": {
        "id": "cHbWU5ULALe0",
        "colab_type": "code",
        "colab": {}
      },
      "source": [
        "for item in x:\n",
        "    print(item)"
      ],
      "execution_count": 0,
      "outputs": []
    },
    {
      "cell_type": "markdown",
      "metadata": {
        "id": "LEmdpIorALe4",
        "colab_type": "text"
      },
      "source": [
        "<br>\n",
        "Or using the indexing operator:"
      ]
    },
    {
      "cell_type": "code",
      "metadata": {
        "id": "FXu1cn35ALe5",
        "colab_type": "code",
        "colab": {}
      },
      "source": [
        "i=0\n",
        "while( i != len(x) ):\n",
        "    print(x[i])\n",
        "    i = i + 1"
      ],
      "execution_count": 0,
      "outputs": []
    },
    {
      "cell_type": "markdown",
      "metadata": {
        "id": "Chq6APkVALfA",
        "colab_type": "text"
      },
      "source": [
        "<br>\n",
        "Use `+` to concatenate lists."
      ]
    },
    {
      "cell_type": "code",
      "metadata": {
        "id": "tLfSY3hjALfA",
        "colab_type": "code",
        "colab": {}
      },
      "source": [
        "[1,2] + [3,4]"
      ],
      "execution_count": 0,
      "outputs": []
    },
    {
      "cell_type": "markdown",
      "metadata": {
        "id": "6gFa6gXrALfE",
        "colab_type": "text"
      },
      "source": [
        "<br>\n",
        "Use `*` to repeat lists."
      ]
    },
    {
      "cell_type": "code",
      "metadata": {
        "id": "tX4U4rQwALfF",
        "colab_type": "code",
        "colab": {}
      },
      "source": [
        "[1]*3"
      ],
      "execution_count": 0,
      "outputs": []
    },
    {
      "cell_type": "markdown",
      "metadata": {
        "id": "Tw9I0wR7ALfJ",
        "colab_type": "text"
      },
      "source": [
        "<br>\n",
        "Use the `in` operator to check if something is inside a list."
      ]
    },
    {
      "cell_type": "code",
      "metadata": {
        "id": "BfyV5OjRALfK",
        "colab_type": "code",
        "colab": {}
      },
      "source": [
        "1 in [1, 2, 3]"
      ],
      "execution_count": 0,
      "outputs": []
    },
    {
      "cell_type": "markdown",
      "metadata": {
        "id": "cwf6sOaNALfN",
        "colab_type": "text"
      },
      "source": [
        "<br>\n",
        "Now let's look at strings. Use bracket notation to slice a string."
      ]
    },
    {
      "cell_type": "code",
      "metadata": {
        "id": "FvBR3q0PALfO",
        "colab_type": "code",
        "colab": {}
      },
      "source": [
        "x = 'This is a string'\n",
        "print(x[0]) #first character\n",
        "print(x[0:1]) #first character, but we have explicitly set the end character\n",
        "print(x[0:2]) #first two characters\n"
      ],
      "execution_count": 0,
      "outputs": []
    },
    {
      "cell_type": "markdown",
      "metadata": {
        "id": "umVh8RjLALfR",
        "colab_type": "text"
      },
      "source": [
        "<br>\n",
        "This will return the last element of the string."
      ]
    },
    {
      "cell_type": "code",
      "metadata": {
        "id": "XW4gam1gALfS",
        "colab_type": "code",
        "colab": {}
      },
      "source": [
        "x[-1]"
      ],
      "execution_count": 0,
      "outputs": []
    },
    {
      "cell_type": "markdown",
      "metadata": {
        "id": "UpqCApQmALfV",
        "colab_type": "text"
      },
      "source": [
        "<br>\n",
        "This will return the slice starting from the 4th element from the end and stopping before the 2nd element from the end."
      ]
    },
    {
      "cell_type": "code",
      "metadata": {
        "id": "85QdwR3GALfX",
        "colab_type": "code",
        "colab": {}
      },
      "source": [
        "x[-4:-2]"
      ],
      "execution_count": 0,
      "outputs": []
    },
    {
      "cell_type": "markdown",
      "metadata": {
        "id": "BJp6q7WiALfa",
        "colab_type": "text"
      },
      "source": [
        "<br>\n",
        "This is a slice from the beginning of the string and stopping before the 3rd element."
      ]
    },
    {
      "cell_type": "code",
      "metadata": {
        "id": "VSFhjysGALfb",
        "colab_type": "code",
        "colab": {}
      },
      "source": [
        "x[:3]"
      ],
      "execution_count": 0,
      "outputs": []
    },
    {
      "cell_type": "markdown",
      "metadata": {
        "id": "_V-EFqWeALfe",
        "colab_type": "text"
      },
      "source": [
        "<br>\n",
        "And this is a slice starting from the 4th element of the string and going all the way to the end."
      ]
    },
    {
      "cell_type": "code",
      "metadata": {
        "id": "tgMIaggbALfg",
        "colab_type": "code",
        "colab": {}
      },
      "source": [
        "x[3:]"
      ],
      "execution_count": 0,
      "outputs": []
    },
    {
      "cell_type": "code",
      "metadata": {
        "id": "9gJSyGdeALfk",
        "colab_type": "code",
        "colab": {}
      },
      "source": [
        "firstname = 'Christopher'\n",
        "lastname = 'Brooks'\n",
        "\n",
        "print(firstname + ' ' + lastname)\n",
        "print(firstname*3)\n",
        "print('Chris' in firstname)\n"
      ],
      "execution_count": 0,
      "outputs": []
    },
    {
      "cell_type": "markdown",
      "metadata": {
        "id": "bgw_zmq4ALfn",
        "colab_type": "text"
      },
      "source": [
        "<br>\n",
        "`split` returns a list of all the words in a string, or a list split on a specific character."
      ]
    },
    {
      "cell_type": "code",
      "metadata": {
        "id": "-wsifFhdALfo",
        "colab_type": "code",
        "colab": {}
      },
      "source": [
        "firstname = 'Christopher Arthur Hansen Brooks'.split(' ')[0] # [0] selects the first element of the list\n",
        "lastname = 'Christopher Arthur Hansen Brooks'.split(' ')[-1] # [-1] selects the last element of the list\n",
        "print(firstname)\n",
        "print(lastname)"
      ],
      "execution_count": 0,
      "outputs": []
    },
    {
      "cell_type": "markdown",
      "metadata": {
        "id": "uHWyLqGqALfq",
        "colab_type": "text"
      },
      "source": [
        "<br>\n",
        "Make sure you convert objects to strings before concatenating."
      ]
    },
    {
      "cell_type": "code",
      "metadata": {
        "id": "RUKK6s9NALfs",
        "colab_type": "code",
        "colab": {}
      },
      "source": [
        "'Chris' + 2"
      ],
      "execution_count": 0,
      "outputs": []
    },
    {
      "cell_type": "code",
      "metadata": {
        "id": "aue0n3t9ALfv",
        "colab_type": "code",
        "colab": {}
      },
      "source": [
        "'Chris' + str(2)"
      ],
      "execution_count": 0,
      "outputs": []
    },
    {
      "cell_type": "markdown",
      "metadata": {
        "id": "ILKY-87hALfz",
        "colab_type": "text"
      },
      "source": [
        "<br>\n",
        "Dictionaries associate keys with values."
      ]
    },
    {
      "cell_type": "code",
      "metadata": {
        "id": "wK10RtQ2ALf0",
        "colab_type": "code",
        "colab": {}
      },
      "source": [
        "x = {'Christopher Brooks': 'brooksch@umich.edu', 'Bill Gates': 'billg@microsoft.com'}\n",
        "x['Christopher Brooks'] # Retrieve a value by using the indexing operator\n"
      ],
      "execution_count": 0,
      "outputs": []
    },
    {
      "cell_type": "code",
      "metadata": {
        "id": "TwenU-GVALf2",
        "colab_type": "code",
        "colab": {}
      },
      "source": [
        "x['Kevyn Collins-Thompson'] = None\n",
        "x['Kevyn Collins-Thompson']"
      ],
      "execution_count": 0,
      "outputs": []
    },
    {
      "cell_type": "markdown",
      "metadata": {
        "id": "G4hMZrJzALf5",
        "colab_type": "text"
      },
      "source": [
        "<br>\n",
        "Iterate over all of the keys:"
      ]
    },
    {
      "cell_type": "code",
      "metadata": {
        "scrolled": true,
        "id": "ooMbir3FALf6",
        "colab_type": "code",
        "colab": {}
      },
      "source": [
        "for name in x:\n",
        "    print(x[name])"
      ],
      "execution_count": 0,
      "outputs": []
    },
    {
      "cell_type": "markdown",
      "metadata": {
        "id": "y8NvUzpKALf9",
        "colab_type": "text"
      },
      "source": [
        "<br>\n",
        "Iterate over all of the values:"
      ]
    },
    {
      "cell_type": "code",
      "metadata": {
        "id": "1-TBSoleALf-",
        "colab_type": "code",
        "colab": {}
      },
      "source": [
        "for email in x.values():\n",
        "    print(email)"
      ],
      "execution_count": 0,
      "outputs": []
    },
    {
      "cell_type": "markdown",
      "metadata": {
        "id": "BnnDXHq_ALgA",
        "colab_type": "text"
      },
      "source": [
        "<br>\n",
        "Iterate over all of the items in the list:"
      ]
    },
    {
      "cell_type": "code",
      "metadata": {
        "id": "trkF6PPHALgC",
        "colab_type": "code",
        "colab": {}
      },
      "source": [
        "for name, email in x.items():\n",
        "    print(name)\n",
        "    print(email)"
      ],
      "execution_count": 0,
      "outputs": []
    },
    {
      "cell_type": "markdown",
      "metadata": {
        "id": "1_mFWnCrALgG",
        "colab_type": "text"
      },
      "source": [
        "<br>\n",
        "You can unpack a sequence into different variables:"
      ]
    },
    {
      "cell_type": "code",
      "metadata": {
        "id": "wpMA-HTLALgJ",
        "colab_type": "code",
        "colab": {}
      },
      "source": [
        "x = ('Christopher', 'Brooks', 'brooksch@umich.edu')\n",
        "fname, lname, email = x"
      ],
      "execution_count": 0,
      "outputs": []
    },
    {
      "cell_type": "code",
      "metadata": {
        "id": "ROuGKR9FALgM",
        "colab_type": "code",
        "colab": {}
      },
      "source": [
        "fname"
      ],
      "execution_count": 0,
      "outputs": []
    },
    {
      "cell_type": "code",
      "metadata": {
        "id": "gdAjKIgeALgP",
        "colab_type": "code",
        "colab": {}
      },
      "source": [
        "lname"
      ],
      "execution_count": 0,
      "outputs": []
    },
    {
      "cell_type": "markdown",
      "metadata": {
        "id": "_GIvkkEvALgS",
        "colab_type": "text"
      },
      "source": [
        "<br>\n",
        "Make sure the number of values you are unpacking matches the number of variables being assigned."
      ]
    },
    {
      "cell_type": "code",
      "metadata": {
        "id": "uDYn3U3oALgT",
        "colab_type": "code",
        "colab": {}
      },
      "source": [
        "x = ('Christopher', 'Brooks', 'brooksch@umich.edu', 'Ann Arbor')\n",
        "fname, lname, email = x"
      ],
      "execution_count": 0,
      "outputs": []
    },
    {
      "cell_type": "markdown",
      "metadata": {
        "id": "1tsmLB73ALgV",
        "colab_type": "text"
      },
      "source": [
        "<br>\n",
        "# The Python Programming Language: More on Strings"
      ]
    },
    {
      "cell_type": "code",
      "metadata": {
        "id": "4zFMFnbBALgW",
        "colab_type": "code",
        "colab": {}
      },
      "source": [
        "print('Chris' + 2)"
      ],
      "execution_count": 0,
      "outputs": []
    },
    {
      "cell_type": "code",
      "metadata": {
        "id": "h23nOBPBALgY",
        "colab_type": "code",
        "colab": {}
      },
      "source": [
        "print('Chris' + str(2))"
      ],
      "execution_count": 0,
      "outputs": []
    },
    {
      "cell_type": "markdown",
      "metadata": {
        "id": "j05VKiqrALgb",
        "colab_type": "text"
      },
      "source": [
        "<br>\n",
        "Python has a built in method for convenient string formatting."
      ]
    },
    {
      "cell_type": "code",
      "metadata": {
        "id": "YP_IhRoHALge",
        "colab_type": "code",
        "colab": {}
      },
      "source": [
        "sales_record = {\n",
        "'price': 3.24,\n",
        "'num_items': 4,\n",
        "'person': 'Chris'}\n",
        "\n",
        "sales_statement = '{} bought {} item(s) at a price of {} each for a total of {}'\n",
        "\n",
        "print(sales_statement.format(sales_record['person'],\n",
        "                             sales_record['num_items'],\n",
        "                             sales_record['price'],\n",
        "                             sales_record['num_items']*sales_record['price']))\n"
      ],
      "execution_count": 0,
      "outputs": []
    },
    {
      "cell_type": "markdown",
      "metadata": {
        "id": "kTZxQAFOALgi",
        "colab_type": "text"
      },
      "source": [
        "<br>\n",
        "# Reading and Writing CSV files"
      ]
    },
    {
      "cell_type": "markdown",
      "metadata": {
        "id": "QgQRmflsALgj",
        "colab_type": "text"
      },
      "source": [
        "<br>\n",
        "Let's import our datafile mpg.csv, which contains fuel economy data for 234 cars.\n",
        "\n",
        "* mpg : miles per gallon\n",
        "* class : car classification\n",
        "* cty : city mpg\n",
        "* cyl : # of cylinders\n",
        "* displ : engine displacement in liters\n",
        "* drv : f = front-wheel drive, r = rear wheel drive, 4 = 4wd\n",
        "* fl : fuel (e = ethanol E85, d = diesel, r = regular, p = premium, c = CNG)\n",
        "* hwy : highway mpg\n",
        "* manufacturer : automobile manufacturer\n",
        "* model : model of car\n",
        "* trans : type of transmission\n",
        "* year : model year"
      ]
    },
    {
      "cell_type": "code",
      "metadata": {
        "scrolled": true,
        "id": "BKKySek5ALgk",
        "colab_type": "code",
        "colab": {}
      },
      "source": [
        "import csv\n",
        "\n",
        "%precision 2\n",
        "\n",
        "with open('mpg.csv') as csvfile:\n",
        "    mpg = list(csv.DictReader(csvfile))\n",
        "    \n",
        "mpg[:3] # The first three dictionaries in our list."
      ],
      "execution_count": 0,
      "outputs": []
    },
    {
      "cell_type": "markdown",
      "metadata": {
        "id": "uloDfv1-ALgm",
        "colab_type": "text"
      },
      "source": [
        "<br>\n",
        "`csv.Dictreader` has read in each row of our csv file as a dictionary. `len` shows that our list is comprised of 234 dictionaries."
      ]
    },
    {
      "cell_type": "code",
      "metadata": {
        "id": "ME1NLLg7ALgn",
        "colab_type": "code",
        "colab": {}
      },
      "source": [
        "len(mpg)"
      ],
      "execution_count": 0,
      "outputs": []
    },
    {
      "cell_type": "markdown",
      "metadata": {
        "id": "CiHvBkN3ALgq",
        "colab_type": "text"
      },
      "source": [
        "<br>\n",
        "`keys` gives us the column names of our csv."
      ]
    },
    {
      "cell_type": "code",
      "metadata": {
        "id": "a1vO0CIjALgr",
        "colab_type": "code",
        "colab": {}
      },
      "source": [
        "mpg[0].keys()"
      ],
      "execution_count": 0,
      "outputs": []
    },
    {
      "cell_type": "markdown",
      "metadata": {
        "id": "ujNFmVu6ALgu",
        "colab_type": "text"
      },
      "source": [
        "<br>\n",
        "This is how to find the average cty fuel economy across all cars. All values in the dictionaries are strings, so we need to convert to float."
      ]
    },
    {
      "cell_type": "code",
      "metadata": {
        "id": "_IsOboIvALgv",
        "colab_type": "code",
        "colab": {}
      },
      "source": [
        "sum(float(d['cty']) for d in mpg) / len(mpg)"
      ],
      "execution_count": 0,
      "outputs": []
    },
    {
      "cell_type": "markdown",
      "metadata": {
        "id": "ip2ufh0UALgx",
        "colab_type": "text"
      },
      "source": [
        "<br>\n",
        "Similarly this is how to find the average hwy fuel economy across all cars."
      ]
    },
    {
      "cell_type": "code",
      "metadata": {
        "id": "K26KtXC7ALgy",
        "colab_type": "code",
        "colab": {}
      },
      "source": [
        "sum(float(d['hwy']) for d in mpg) / len(mpg)"
      ],
      "execution_count": 0,
      "outputs": []
    },
    {
      "cell_type": "markdown",
      "metadata": {
        "id": "H_fWlkX0ALg0",
        "colab_type": "text"
      },
      "source": [
        "<br>\n",
        "Use `set` to return the unique values for the number of cylinders the cars in our dataset have."
      ]
    },
    {
      "cell_type": "code",
      "metadata": {
        "id": "geUGhVgQALg0",
        "colab_type": "code",
        "colab": {}
      },
      "source": [
        "cylinders = set(d['cyl'] for d in mpg)\n",
        "cylinders"
      ],
      "execution_count": 0,
      "outputs": []
    },
    {
      "cell_type": "markdown",
      "metadata": {
        "id": "adLRTiLGALg2",
        "colab_type": "text"
      },
      "source": [
        "<br>\n",
        "Here's a more complex example where we are grouping the cars by number of cylinder, and finding the average cty mpg for each group."
      ]
    },
    {
      "cell_type": "code",
      "metadata": {
        "id": "BDKGpx8mALg3",
        "colab_type": "code",
        "colab": {}
      },
      "source": [
        "CtyMpgByCyl = []\n",
        "\n",
        "for c in cylinders: # iterate over all the cylinder levels\n",
        "    summpg = 0\n",
        "    cyltypecount = 0\n",
        "    for d in mpg: # iterate over all dictionaries\n",
        "        if d['cyl'] == c: # if the cylinder level type matches,\n",
        "            summpg += float(d['cty']) # add the cty mpg\n",
        "            cyltypecount += 1 # increment the count\n",
        "    CtyMpgByCyl.append((c, summpg / cyltypecount)) # append the tuple ('cylinder', 'avg mpg')\n",
        "\n",
        "CtyMpgByCyl.sort(key=lambda x: x[0])\n",
        "CtyMpgByCyl"
      ],
      "execution_count": 0,
      "outputs": []
    },
    {
      "cell_type": "markdown",
      "metadata": {
        "id": "LENo7JJNALg7",
        "colab_type": "text"
      },
      "source": [
        "<br>\n",
        "Use `set` to return the unique values for the class types in our dataset."
      ]
    },
    {
      "cell_type": "code",
      "metadata": {
        "id": "zUVWPwPIALg7",
        "colab_type": "code",
        "colab": {}
      },
      "source": [
        "vehicleclass = set(d['class'] for d in mpg) # what are the class types\n",
        "vehicleclass"
      ],
      "execution_count": 0,
      "outputs": []
    },
    {
      "cell_type": "markdown",
      "metadata": {
        "id": "myFPTWCvALhB",
        "colab_type": "text"
      },
      "source": [
        "<br>\n",
        "And here's an example of how to find the average hwy mpg for each class of vehicle in our dataset."
      ]
    },
    {
      "cell_type": "code",
      "metadata": {
        "id": "RgjO2vvPALhB",
        "colab_type": "code",
        "colab": {}
      },
      "source": [
        "HwyMpgByClass = []\n",
        "\n",
        "for t in vehicleclass: # iterate over all the vehicle classes\n",
        "    summpg = 0\n",
        "    vclasscount = 0\n",
        "    for d in mpg: # iterate over all dictionaries\n",
        "        if d['class'] == t: # if the cylinder amount type matches,\n",
        "            summpg += float(d['hwy']) # add the hwy mpg\n",
        "            vclasscount += 1 # increment the count\n",
        "    HwyMpgByClass.append((t, summpg / vclasscount)) # append the tuple ('class', 'avg mpg')\n",
        "\n",
        "HwyMpgByClass.sort(key=lambda x: x[1])\n",
        "HwyMpgByClass"
      ],
      "execution_count": 0,
      "outputs": []
    },
    {
      "cell_type": "markdown",
      "metadata": {
        "id": "njAvLdRNALhD",
        "colab_type": "text"
      },
      "source": [
        "<br>\n",
        "# The Python Programming Language: Dates and Times"
      ]
    },
    {
      "cell_type": "code",
      "metadata": {
        "id": "Ptgsoo-cALhE",
        "colab_type": "code",
        "colab": {}
      },
      "source": [
        "import datetime as dt\n",
        "import time as tm"
      ],
      "execution_count": 0,
      "outputs": []
    },
    {
      "cell_type": "markdown",
      "metadata": {
        "id": "-OlJnpZkALhH",
        "colab_type": "text"
      },
      "source": [
        "<br>\n",
        "`time` returns the current time in seconds since the Epoch. (January 1st, 1970)"
      ]
    },
    {
      "cell_type": "code",
      "metadata": {
        "id": "VGKj8c3DALhI",
        "colab_type": "code",
        "colab": {}
      },
      "source": [
        "tm.time()"
      ],
      "execution_count": 0,
      "outputs": []
    },
    {
      "cell_type": "markdown",
      "metadata": {
        "id": "PfhdYxeHALhK",
        "colab_type": "text"
      },
      "source": [
        "<br>\n",
        "Convert the timestamp to datetime."
      ]
    },
    {
      "cell_type": "code",
      "metadata": {
        "id": "-lgt3yeTALhL",
        "colab_type": "code",
        "colab": {}
      },
      "source": [
        "dtnow = dt.datetime.fromtimestamp(tm.time())\n",
        "dtnow"
      ],
      "execution_count": 0,
      "outputs": []
    },
    {
      "cell_type": "markdown",
      "metadata": {
        "id": "cYbEjpdqALhT",
        "colab_type": "text"
      },
      "source": [
        "<br>\n",
        "Handy datetime attributes:"
      ]
    },
    {
      "cell_type": "code",
      "metadata": {
        "id": "F1hTPy-CALhU",
        "colab_type": "code",
        "colab": {}
      },
      "source": [
        "dtnow.year, dtnow.month, dtnow.day, dtnow.hour, dtnow.minute, dtnow.second # get year, month, day, etc.from a datetime"
      ],
      "execution_count": 0,
      "outputs": []
    },
    {
      "cell_type": "markdown",
      "metadata": {
        "id": "wK1NrUycALhW",
        "colab_type": "text"
      },
      "source": [
        "<br>\n",
        "`timedelta` is a duration expressing the difference between two dates."
      ]
    },
    {
      "cell_type": "code",
      "metadata": {
        "id": "-RGGesDuALhX",
        "colab_type": "code",
        "colab": {}
      },
      "source": [
        "delta = dt.timedelta(days = 100) # create a timedelta of 100 days\n",
        "delta"
      ],
      "execution_count": 0,
      "outputs": []
    },
    {
      "cell_type": "markdown",
      "metadata": {
        "id": "zDHTjwcOALhZ",
        "colab_type": "text"
      },
      "source": [
        "<br>\n",
        "`date.today` returns the current local date."
      ]
    },
    {
      "cell_type": "code",
      "metadata": {
        "id": "kfKet9yVALha",
        "colab_type": "code",
        "colab": {}
      },
      "source": [
        "today = dt.date.today()"
      ],
      "execution_count": 0,
      "outputs": []
    },
    {
      "cell_type": "code",
      "metadata": {
        "id": "2DipIblwALhb",
        "colab_type": "code",
        "colab": {}
      },
      "source": [
        "today - delta # the date 100 days ago"
      ],
      "execution_count": 0,
      "outputs": []
    },
    {
      "cell_type": "code",
      "metadata": {
        "id": "r9R9LhPgALhe",
        "colab_type": "code",
        "colab": {}
      },
      "source": [
        "today > today-delta # compare dates"
      ],
      "execution_count": 0,
      "outputs": []
    },
    {
      "cell_type": "markdown",
      "metadata": {
        "id": "2F4JqlO0ALhh",
        "colab_type": "text"
      },
      "source": [
        "<br>\n",
        "# The Python Programming Language: Objects and map()"
      ]
    },
    {
      "cell_type": "markdown",
      "metadata": {
        "id": "FT7B4y57ALhh",
        "colab_type": "text"
      },
      "source": [
        "<br>\n",
        "An example of a class in python:"
      ]
    },
    {
      "cell_type": "code",
      "metadata": {
        "id": "Bdxy1CK-ALhi",
        "colab_type": "code",
        "colab": {}
      },
      "source": [
        "class Person:\n",
        "    department = 'School of Information' #a class variable\n",
        "\n",
        "    def set_name(self, new_name): #a method\n",
        "        self.name = new_name\n",
        "    def set_location(self, new_location):\n",
        "        self.location = new_location"
      ],
      "execution_count": 0,
      "outputs": []
    },
    {
      "cell_type": "code",
      "metadata": {
        "id": "5uRuzyefALhk",
        "colab_type": "code",
        "colab": {}
      },
      "source": [
        "person = Person()\n",
        "person.set_name('Christopher Brooks')\n",
        "person.set_location('Ann Arbor, MI, USA')\n",
        "print('{} live in {} and works in the department {}'.format(person.name, person.location, person.department))"
      ],
      "execution_count": 0,
      "outputs": []
    },
    {
      "cell_type": "markdown",
      "metadata": {
        "id": "FGCiqy8XALhm",
        "colab_type": "text"
      },
      "source": [
        "<br>\n",
        "Here's an example of mapping the `min` function between two lists."
      ]
    },
    {
      "cell_type": "code",
      "metadata": {
        "id": "NzZlnguOALhn",
        "colab_type": "code",
        "colab": {}
      },
      "source": [
        "store1 = [10.00, 11.00, 12.34, 2.34]\n",
        "store2 = [9.00, 11.10, 12.34, 2.01]\n",
        "cheapest = map(min, store1, store2)\n",
        "cheapest"
      ],
      "execution_count": 0,
      "outputs": []
    },
    {
      "cell_type": "markdown",
      "metadata": {
        "id": "mW_qZkDGALho",
        "colab_type": "text"
      },
      "source": [
        "<br>\n",
        "Now let's iterate through the map object to see the values."
      ]
    },
    {
      "cell_type": "code",
      "metadata": {
        "scrolled": true,
        "id": "wSmR_s2eALhp",
        "colab_type": "code",
        "colab": {}
      },
      "source": [
        "for item in cheapest:\n",
        "    print(item)"
      ],
      "execution_count": 0,
      "outputs": []
    },
    {
      "cell_type": "markdown",
      "metadata": {
        "id": "-3gekta0ALhu",
        "colab_type": "text"
      },
      "source": [
        "<br>\n",
        "# The Python Programming Language: Lambda and List Comprehensions"
      ]
    },
    {
      "cell_type": "markdown",
      "metadata": {
        "id": "ImTsy0jGALhv",
        "colab_type": "text"
      },
      "source": [
        "<br>\n",
        "Here's an example of lambda that takes in three parameters and adds the first two."
      ]
    },
    {
      "cell_type": "code",
      "metadata": {
        "id": "zI17BQNAALhv",
        "colab_type": "code",
        "colab": {}
      },
      "source": [
        "my_function = lambda a, b, c : a + b"
      ],
      "execution_count": 0,
      "outputs": []
    },
    {
      "cell_type": "code",
      "metadata": {
        "id": "agZZ6mILALhz",
        "colab_type": "code",
        "colab": {}
      },
      "source": [
        "my_function(1, 2, 3)"
      ],
      "execution_count": 0,
      "outputs": []
    },
    {
      "cell_type": "markdown",
      "metadata": {
        "id": "KiSYanKYALh0",
        "colab_type": "text"
      },
      "source": [
        "<br>\n",
        "Let's iterate from 0 to 999 and return the even numbers."
      ]
    },
    {
      "cell_type": "code",
      "metadata": {
        "id": "z6G1CK1CALh1",
        "colab_type": "code",
        "colab": {}
      },
      "source": [
        "my_list = []\n",
        "for number in range(0, 1000):\n",
        "    if number % 2 == 0:\n",
        "        my_list.append(number)\n",
        "my_list"
      ],
      "execution_count": 0,
      "outputs": []
    },
    {
      "cell_type": "markdown",
      "metadata": {
        "id": "o3LRVx9dALh3",
        "colab_type": "text"
      },
      "source": [
        "<br>\n",
        "Now the same thing but with list comprehension."
      ]
    },
    {
      "cell_type": "code",
      "metadata": {
        "id": "Q4viZd6ZALh3",
        "colab_type": "code",
        "colab": {}
      },
      "source": [
        "my_list = [number for number in range(0,1000) if number % 2 == 0]\n",
        "my_list"
      ],
      "execution_count": 0,
      "outputs": []
    },
    {
      "cell_type": "markdown",
      "metadata": {
        "collapsed": true,
        "id": "I4rP2MRcALh5",
        "colab_type": "text"
      },
      "source": [
        "<br>\n",
        "# The Python Programming Language: Numerical Python (NumPy)"
      ]
    },
    {
      "cell_type": "code",
      "metadata": {
        "id": "BMOwc6_oALh5",
        "colab_type": "code",
        "colab": {}
      },
      "source": [
        "import numpy as np"
      ],
      "execution_count": 0,
      "outputs": []
    },
    {
      "cell_type": "markdown",
      "metadata": {
        "id": "ejU1-IJ8ALh9",
        "colab_type": "text"
      },
      "source": [
        "<br>\n",
        "## Creating Arrays"
      ]
    },
    {
      "cell_type": "markdown",
      "metadata": {
        "id": "bdamNpBiALh-",
        "colab_type": "text"
      },
      "source": [
        "Create a list and convert it to a numpy array"
      ]
    },
    {
      "cell_type": "code",
      "metadata": {
        "id": "i_bvc-U-ALh-",
        "colab_type": "code",
        "colab": {}
      },
      "source": [
        "mylist = [1, 2, 3]\n",
        "x = np.array(mylist)\n",
        "x"
      ],
      "execution_count": 0,
      "outputs": []
    },
    {
      "cell_type": "markdown",
      "metadata": {
        "id": "ZM_0DGT8ALiA",
        "colab_type": "text"
      },
      "source": [
        "<br>\n",
        "Or just pass in a list directly"
      ]
    },
    {
      "cell_type": "code",
      "metadata": {
        "id": "py4VZs5qALiB",
        "colab_type": "code",
        "colab": {}
      },
      "source": [
        "y = np.array([4, 5, 6])\n",
        "y"
      ],
      "execution_count": 0,
      "outputs": []
    },
    {
      "cell_type": "markdown",
      "metadata": {
        "id": "A8fkztvKALiF",
        "colab_type": "text"
      },
      "source": [
        "<br>\n",
        "Pass in a list of lists to create a multidimensional array."
      ]
    },
    {
      "cell_type": "code",
      "metadata": {
        "id": "96PJFfJuALiF",
        "colab_type": "code",
        "colab": {}
      },
      "source": [
        "m = np.array([[7, 8, 9], [10, 11, 12]])\n",
        "m"
      ],
      "execution_count": 0,
      "outputs": []
    },
    {
      "cell_type": "markdown",
      "metadata": {
        "id": "IYKID_z3ALiH",
        "colab_type": "text"
      },
      "source": [
        "<br>\n",
        "Use the shape method to find the dimensions of the array. (rows, columns)"
      ]
    },
    {
      "cell_type": "code",
      "metadata": {
        "id": "Mc05j1zaALiH",
        "colab_type": "code",
        "colab": {}
      },
      "source": [
        "m.shape"
      ],
      "execution_count": 0,
      "outputs": []
    },
    {
      "cell_type": "markdown",
      "metadata": {
        "id": "iX-ej113ALiN",
        "colab_type": "text"
      },
      "source": [
        "<br>\n",
        "`arange` returns evenly spaced values within a given interval."
      ]
    },
    {
      "cell_type": "code",
      "metadata": {
        "id": "gcPqHAPXALiP",
        "colab_type": "code",
        "colab": {}
      },
      "source": [
        "n = np.arange(0, 30, 2) # start at 0 count up by 2, stop before 30\n",
        "n"
      ],
      "execution_count": 0,
      "outputs": []
    },
    {
      "cell_type": "markdown",
      "metadata": {
        "id": "HgKNC_6EALiQ",
        "colab_type": "text"
      },
      "source": [
        "<br>\n",
        "`reshape` returns an array with the same data with a new shape."
      ]
    },
    {
      "cell_type": "code",
      "metadata": {
        "id": "bBnfar89ALiR",
        "colab_type": "code",
        "colab": {}
      },
      "source": [
        "n = n.reshape(3, 5) # reshape array to be 3x5\n",
        "n"
      ],
      "execution_count": 0,
      "outputs": []
    },
    {
      "cell_type": "markdown",
      "metadata": {
        "id": "1SzGuFZLALiV",
        "colab_type": "text"
      },
      "source": [
        "<br>\n",
        "`linspace` returns evenly spaced numbers over a specified interval."
      ]
    },
    {
      "cell_type": "code",
      "metadata": {
        "id": "uaboo1-1ALiW",
        "colab_type": "code",
        "colab": {}
      },
      "source": [
        "o = np.linspace(0, 4, 9) # return 9 evenly spaced values from 0 to 4\n",
        "o"
      ],
      "execution_count": 0,
      "outputs": []
    },
    {
      "cell_type": "markdown",
      "metadata": {
        "id": "GiScOKy5ALiX",
        "colab_type": "text"
      },
      "source": [
        "<br>\n",
        "`resize` changes the shape and size of array in-place."
      ]
    },
    {
      "cell_type": "code",
      "metadata": {
        "id": "hwculpgkALiY",
        "colab_type": "code",
        "colab": {}
      },
      "source": [
        "o.resize(3, 3)\n",
        "o"
      ],
      "execution_count": 0,
      "outputs": []
    },
    {
      "cell_type": "markdown",
      "metadata": {
        "id": "56EjrVIQALia",
        "colab_type": "text"
      },
      "source": [
        "<br>\n",
        "`ones` returns a new array of given shape and type, filled with ones."
      ]
    },
    {
      "cell_type": "code",
      "metadata": {
        "id": "fq9PL5kRALia",
        "colab_type": "code",
        "colab": {}
      },
      "source": [
        "np.ones((3, 2))"
      ],
      "execution_count": 0,
      "outputs": []
    },
    {
      "cell_type": "markdown",
      "metadata": {
        "id": "0gOA5Cn8ALid",
        "colab_type": "text"
      },
      "source": [
        "<br>\n",
        "`zeros` returns a new array of given shape and type, filled with zeros."
      ]
    },
    {
      "cell_type": "code",
      "metadata": {
        "id": "M3TkKmysALid",
        "colab_type": "code",
        "colab": {}
      },
      "source": [
        "np.zeros((2, 3))"
      ],
      "execution_count": 0,
      "outputs": []
    },
    {
      "cell_type": "markdown",
      "metadata": {
        "id": "0zg_D9lwALie",
        "colab_type": "text"
      },
      "source": [
        "<br>\n",
        "`eye` returns a 2-D array with ones on the diagonal and zeros elsewhere."
      ]
    },
    {
      "cell_type": "code",
      "metadata": {
        "id": "yfPvUQm-ALif",
        "colab_type": "code",
        "colab": {}
      },
      "source": [
        "np.eye(3)"
      ],
      "execution_count": 0,
      "outputs": []
    },
    {
      "cell_type": "markdown",
      "metadata": {
        "id": "AIliqa8MALig",
        "colab_type": "text"
      },
      "source": [
        "<br>\n",
        "`diag` extracts a diagonal or constructs a diagonal array."
      ]
    },
    {
      "cell_type": "code",
      "metadata": {
        "id": "tfvmawMIALih",
        "colab_type": "code",
        "colab": {}
      },
      "source": [
        "np.diag(y)"
      ],
      "execution_count": 0,
      "outputs": []
    },
    {
      "cell_type": "markdown",
      "metadata": {
        "id": "ibT2yEaLALii",
        "colab_type": "text"
      },
      "source": [
        "<br>\n",
        "Create an array using repeating list (or see `np.tile`)"
      ]
    },
    {
      "cell_type": "code",
      "metadata": {
        "id": "VNS62TcDALij",
        "colab_type": "code",
        "colab": {}
      },
      "source": [
        "np.array([1, 2, 3] * 3)"
      ],
      "execution_count": 0,
      "outputs": []
    },
    {
      "cell_type": "markdown",
      "metadata": {
        "id": "L-dQ2LOCALim",
        "colab_type": "text"
      },
      "source": [
        "<br>\n",
        "Repeat elements of an array using `repeat`."
      ]
    },
    {
      "cell_type": "code",
      "metadata": {
        "id": "da-Ls_BSALin",
        "colab_type": "code",
        "colab": {}
      },
      "source": [
        "np.repeat([1, 2, 3], 3)"
      ],
      "execution_count": 0,
      "outputs": []
    },
    {
      "cell_type": "markdown",
      "metadata": {
        "id": "2RGvkPfKALio",
        "colab_type": "text"
      },
      "source": [
        "<br>\n",
        "#### Combining Arrays"
      ]
    },
    {
      "cell_type": "code",
      "metadata": {
        "id": "TFPZA1AoALio",
        "colab_type": "code",
        "colab": {}
      },
      "source": [
        "p = np.ones([2, 3], int)\n",
        "p"
      ],
      "execution_count": 0,
      "outputs": []
    },
    {
      "cell_type": "markdown",
      "metadata": {
        "id": "94PJ6ReWALiq",
        "colab_type": "text"
      },
      "source": [
        "<br>\n",
        "Use `vstack` to stack arrays in sequence vertically (row wise)."
      ]
    },
    {
      "cell_type": "code",
      "metadata": {
        "id": "w0VKpOgAALiq",
        "colab_type": "code",
        "colab": {}
      },
      "source": [
        "np.vstack([p, 2*p])"
      ],
      "execution_count": 0,
      "outputs": []
    },
    {
      "cell_type": "markdown",
      "metadata": {
        "id": "bn0Db6sdALis",
        "colab_type": "text"
      },
      "source": [
        "<br>\n",
        "Use `hstack` to stack arrays in sequence horizontally (column wise)."
      ]
    },
    {
      "cell_type": "code",
      "metadata": {
        "id": "F9LxQRLPALis",
        "colab_type": "code",
        "colab": {}
      },
      "source": [
        "np.hstack([p, 2*p])"
      ],
      "execution_count": 0,
      "outputs": []
    },
    {
      "cell_type": "markdown",
      "metadata": {
        "id": "cKkE4ZQoALit",
        "colab_type": "text"
      },
      "source": [
        "<br>\n",
        "## Operations"
      ]
    },
    {
      "cell_type": "markdown",
      "metadata": {
        "id": "q0RaJuztALiu",
        "colab_type": "text"
      },
      "source": [
        "Use `+`, `-`, `*`, `/` and `**` to perform element wise addition, subtraction, multiplication, division and power."
      ]
    },
    {
      "cell_type": "code",
      "metadata": {
        "id": "hSGhkaxCALiu",
        "colab_type": "code",
        "colab": {}
      },
      "source": [
        "print(x + y) # elementwise addition     [1 2 3] + [4 5 6] = [5  7  9]\n",
        "print(x - y) # elementwise subtraction  [1 2 3] - [4 5 6] = [-3 -3 -3]"
      ],
      "execution_count": 0,
      "outputs": []
    },
    {
      "cell_type": "code",
      "metadata": {
        "id": "F5cJERyqALiw",
        "colab_type": "code",
        "colab": {}
      },
      "source": [
        "print(x * y) # elementwise multiplication  [1 2 3] * [4 5 6] = [4  10  18]\n",
        "print(x / y) # elementwise divison         [1 2 3] / [4 5 6] = [0.25  0.4  0.5]"
      ],
      "execution_count": 0,
      "outputs": []
    },
    {
      "cell_type": "code",
      "metadata": {
        "id": "94X0oQ-9ALix",
        "colab_type": "code",
        "colab": {}
      },
      "source": [
        "print(x**2) # elementwise power  [1 2 3] ^2 =  [1 4 9]"
      ],
      "execution_count": 0,
      "outputs": []
    },
    {
      "cell_type": "markdown",
      "metadata": {
        "id": "iLxjGIwTALiz",
        "colab_type": "text"
      },
      "source": [
        "<br>\n",
        "**Dot Product:**  \n",
        "\n",
        "$ \\begin{bmatrix}x_1 \\ x_2 \\ x_3\\end{bmatrix}\n",
        "\\cdot\n",
        "\\begin{bmatrix}y_1 \\\\ y_2 \\\\ y_3\\end{bmatrix}\n",
        "= x_1 y_1 + x_2 y_2 + x_3 y_3$"
      ]
    },
    {
      "cell_type": "code",
      "metadata": {
        "id": "oQcKzmFaALiz",
        "colab_type": "code",
        "colab": {}
      },
      "source": [
        "x.dot(y) # dot product  1*4 + 2*5 + 3*6"
      ],
      "execution_count": 0,
      "outputs": []
    },
    {
      "cell_type": "code",
      "metadata": {
        "id": "ZrQv0qo2ALi2",
        "colab_type": "code",
        "colab": {}
      },
      "source": [
        "z = np.array([y, y**2])\n",
        "print(len(z)) # number of rows of array"
      ],
      "execution_count": 0,
      "outputs": []
    },
    {
      "cell_type": "markdown",
      "metadata": {
        "id": "pRasX8RxALi3",
        "colab_type": "text"
      },
      "source": [
        "<br>\n",
        "Let's look at transposing arrays. Transposing permutes the dimensions of the array."
      ]
    },
    {
      "cell_type": "code",
      "metadata": {
        "id": "hD8zZPScALi3",
        "colab_type": "code",
        "colab": {}
      },
      "source": [
        "z = np.array([y, y**2])\n",
        "z"
      ],
      "execution_count": 0,
      "outputs": []
    },
    {
      "cell_type": "markdown",
      "metadata": {
        "id": "luqlll8AALi8",
        "colab_type": "text"
      },
      "source": [
        "<br>\n",
        "The shape of array `z` is `(2,3)` before transposing."
      ]
    },
    {
      "cell_type": "code",
      "metadata": {
        "id": "0XsvpPwXALi8",
        "colab_type": "code",
        "colab": {}
      },
      "source": [
        "z.shape"
      ],
      "execution_count": 0,
      "outputs": []
    },
    {
      "cell_type": "markdown",
      "metadata": {
        "id": "dvduvM5sALi-",
        "colab_type": "text"
      },
      "source": [
        "<br>\n",
        "Use `.T` to get the transpose."
      ]
    },
    {
      "cell_type": "code",
      "metadata": {
        "id": "7otne8DoALi-",
        "colab_type": "code",
        "colab": {}
      },
      "source": [
        "z.T"
      ],
      "execution_count": 0,
      "outputs": []
    },
    {
      "cell_type": "markdown",
      "metadata": {
        "id": "xs0CZRdTALjA",
        "colab_type": "text"
      },
      "source": [
        "<br>\n",
        "The number of rows has swapped with the number of columns."
      ]
    },
    {
      "cell_type": "code",
      "metadata": {
        "id": "5muY3ZwfALjB",
        "colab_type": "code",
        "colab": {}
      },
      "source": [
        "z.T.shape"
      ],
      "execution_count": 0,
      "outputs": []
    },
    {
      "cell_type": "markdown",
      "metadata": {
        "id": "QAUV7prtALjC",
        "colab_type": "text"
      },
      "source": [
        "<br>\n",
        "Use `.dtype` to see the data type of the elements in the array."
      ]
    },
    {
      "cell_type": "code",
      "metadata": {
        "id": "Q6MoUZQtALjD",
        "colab_type": "code",
        "colab": {}
      },
      "source": [
        "z.dtype"
      ],
      "execution_count": 0,
      "outputs": []
    },
    {
      "cell_type": "markdown",
      "metadata": {
        "id": "BfEhMUTsALjE",
        "colab_type": "text"
      },
      "source": [
        "<br>\n",
        "Use `.astype` to cast to a specific type."
      ]
    },
    {
      "cell_type": "code",
      "metadata": {
        "id": "newlkIUMALjF",
        "colab_type": "code",
        "colab": {}
      },
      "source": [
        "z = z.astype('f')\n",
        "z.dtype"
      ],
      "execution_count": 0,
      "outputs": []
    },
    {
      "cell_type": "markdown",
      "metadata": {
        "id": "cZh05X6xALjI",
        "colab_type": "text"
      },
      "source": [
        "<br>\n",
        "## Math Functions"
      ]
    },
    {
      "cell_type": "markdown",
      "metadata": {
        "id": "yJQMTwgzALjJ",
        "colab_type": "text"
      },
      "source": [
        "Numpy has many built in math functions that can be performed on arrays."
      ]
    },
    {
      "cell_type": "code",
      "metadata": {
        "id": "pdlldlzAALjJ",
        "colab_type": "code",
        "colab": {}
      },
      "source": [
        "a = np.array([-4, -2, 1, 3, 5])"
      ],
      "execution_count": 0,
      "outputs": []
    },
    {
      "cell_type": "code",
      "metadata": {
        "id": "KqkrzUEfALjL",
        "colab_type": "code",
        "colab": {}
      },
      "source": [
        "a.sum()"
      ],
      "execution_count": 0,
      "outputs": []
    },
    {
      "cell_type": "code",
      "metadata": {
        "id": "3sHjPjX1ALjM",
        "colab_type": "code",
        "colab": {}
      },
      "source": [
        "a.max()"
      ],
      "execution_count": 0,
      "outputs": []
    },
    {
      "cell_type": "code",
      "metadata": {
        "id": "bO2heQcuALjN",
        "colab_type": "code",
        "colab": {}
      },
      "source": [
        "a.min()"
      ],
      "execution_count": 0,
      "outputs": []
    },
    {
      "cell_type": "code",
      "metadata": {
        "id": "MGgx0kcoALjP",
        "colab_type": "code",
        "colab": {}
      },
      "source": [
        "a.mean()"
      ],
      "execution_count": 0,
      "outputs": []
    },
    {
      "cell_type": "code",
      "metadata": {
        "id": "RgE5eaSFALjR",
        "colab_type": "code",
        "colab": {}
      },
      "source": [
        "a.std()"
      ],
      "execution_count": 0,
      "outputs": []
    },
    {
      "cell_type": "markdown",
      "metadata": {
        "id": "hf5ggFKpALjS",
        "colab_type": "text"
      },
      "source": [
        "<br>\n",
        "`argmax` and `argmin` return the index of the maximum and minimum values in the array."
      ]
    },
    {
      "cell_type": "code",
      "metadata": {
        "id": "9-RxSvxTALjT",
        "colab_type": "code",
        "colab": {}
      },
      "source": [
        "a.argmax()"
      ],
      "execution_count": 0,
      "outputs": []
    },
    {
      "cell_type": "code",
      "metadata": {
        "id": "rAch6cfKALjU",
        "colab_type": "code",
        "colab": {}
      },
      "source": [
        "a.argmin()"
      ],
      "execution_count": 0,
      "outputs": []
    },
    {
      "cell_type": "markdown",
      "metadata": {
        "id": "WR0ZzF6XALjY",
        "colab_type": "text"
      },
      "source": [
        "<br>\n",
        "## Indexing / Slicing"
      ]
    },
    {
      "cell_type": "code",
      "metadata": {
        "id": "NxHp9d6cALjY",
        "colab_type": "code",
        "colab": {}
      },
      "source": [
        "s = np.arange(13)**2\n",
        "s"
      ],
      "execution_count": 0,
      "outputs": []
    },
    {
      "cell_type": "markdown",
      "metadata": {
        "id": "oLXSp1nPALja",
        "colab_type": "text"
      },
      "source": [
        "<br>\n",
        "Use bracket notation to get the value at a specific index. Remember that indexing starts at 0."
      ]
    },
    {
      "cell_type": "code",
      "metadata": {
        "id": "DrcEuClWALjb",
        "colab_type": "code",
        "colab": {}
      },
      "source": [
        "s[0], s[4], s[-1]"
      ],
      "execution_count": 0,
      "outputs": []
    },
    {
      "cell_type": "markdown",
      "metadata": {
        "id": "u0jhTsHQALjc",
        "colab_type": "text"
      },
      "source": [
        "<br>\n",
        "Use `:` to indicate a range. `array[start:stop]`\n",
        "\n",
        "\n",
        "Leaving `start` or `stop` empty will default to the beginning/end of the array."
      ]
    },
    {
      "cell_type": "code",
      "metadata": {
        "id": "_04bH0w_ALjd",
        "colab_type": "code",
        "colab": {}
      },
      "source": [
        "s[1:5]"
      ],
      "execution_count": 0,
      "outputs": []
    },
    {
      "cell_type": "markdown",
      "metadata": {
        "id": "BYes1NjbALje",
        "colab_type": "text"
      },
      "source": [
        "<br>\n",
        "Use negatives to count from the back."
      ]
    },
    {
      "cell_type": "code",
      "metadata": {
        "id": "_oNEnRAAALjf",
        "colab_type": "code",
        "colab": {}
      },
      "source": [
        "s[-4:]"
      ],
      "execution_count": 0,
      "outputs": []
    },
    {
      "cell_type": "markdown",
      "metadata": {
        "id": "UBEGjDgEALjg",
        "colab_type": "text"
      },
      "source": [
        "<br>\n",
        "A second `:` can be used to indicate step-size. `array[start:stop:stepsize]`\n",
        "\n",
        "Here we are starting 5th element from the end, and counting backwards by 2 until the beginning of the array is reached."
      ]
    },
    {
      "cell_type": "code",
      "metadata": {
        "id": "0i4Lypa9ALjh",
        "colab_type": "code",
        "colab": {}
      },
      "source": [
        "s[-5::-2]"
      ],
      "execution_count": 0,
      "outputs": []
    },
    {
      "cell_type": "markdown",
      "metadata": {
        "id": "ZanKkb6fALji",
        "colab_type": "text"
      },
      "source": [
        "<br>\n",
        "Let's look at a multidimensional array."
      ]
    },
    {
      "cell_type": "code",
      "metadata": {
        "id": "eOvz3ef9ALjj",
        "colab_type": "code",
        "colab": {}
      },
      "source": [
        "r = np.arange(36)\n",
        "r.resize((6, 6))\n",
        "r"
      ],
      "execution_count": 0,
      "outputs": []
    },
    {
      "cell_type": "markdown",
      "metadata": {
        "id": "yn89QhedALjk",
        "colab_type": "text"
      },
      "source": [
        "<br>\n",
        "Use bracket notation to slice: `array[row, column]`"
      ]
    },
    {
      "cell_type": "code",
      "metadata": {
        "id": "Ftf1jQoGALjn",
        "colab_type": "code",
        "colab": {}
      },
      "source": [
        "r[2, 2]"
      ],
      "execution_count": 0,
      "outputs": []
    },
    {
      "cell_type": "markdown",
      "metadata": {
        "id": "hD-13atHALjo",
        "colab_type": "text"
      },
      "source": [
        "<br>\n",
        "And use : to select a range of rows or columns"
      ]
    },
    {
      "cell_type": "code",
      "metadata": {
        "id": "91SNRviCALjp",
        "colab_type": "code",
        "colab": {}
      },
      "source": [
        "r[3, 3:6]"
      ],
      "execution_count": 0,
      "outputs": []
    },
    {
      "cell_type": "markdown",
      "metadata": {
        "id": "fP1M6yiKALjr",
        "colab_type": "text"
      },
      "source": [
        "<br>\n",
        "Here we are selecting all the rows up to (and not including) row 2, and all the columns up to (and not including) the last column."
      ]
    },
    {
      "cell_type": "code",
      "metadata": {
        "id": "Bb2zdyFOALjs",
        "colab_type": "code",
        "colab": {}
      },
      "source": [
        "r[:2, :-1]"
      ],
      "execution_count": 0,
      "outputs": []
    },
    {
      "cell_type": "markdown",
      "metadata": {
        "id": "IO8Femc4ALjv",
        "colab_type": "text"
      },
      "source": [
        "<br>\n",
        "This is a slice of the last row, and only every other element."
      ]
    },
    {
      "cell_type": "code",
      "metadata": {
        "id": "ftZa_f34ALjv",
        "colab_type": "code",
        "colab": {}
      },
      "source": [
        "r[-1, ::2]"
      ],
      "execution_count": 0,
      "outputs": []
    },
    {
      "cell_type": "markdown",
      "metadata": {
        "id": "b4Iy2iDrALjz",
        "colab_type": "text"
      },
      "source": [
        "<br>\n",
        "We can also perform conditional indexing. Here we are selecting values from the array that are greater than 30. (Also see `np.where`)"
      ]
    },
    {
      "cell_type": "code",
      "metadata": {
        "id": "vnG9ce6IALj0",
        "colab_type": "code",
        "colab": {}
      },
      "source": [
        "r[r > 30]"
      ],
      "execution_count": 0,
      "outputs": []
    },
    {
      "cell_type": "markdown",
      "metadata": {
        "id": "K2as2kz3ALj2",
        "colab_type": "text"
      },
      "source": [
        "<br>\n",
        "Here we are assigning all values in the array that are greater than 30 to the value of 30."
      ]
    },
    {
      "cell_type": "code",
      "metadata": {
        "id": "fDdgNYlBALj2",
        "colab_type": "code",
        "colab": {}
      },
      "source": [
        "r[r > 30] = 30\n",
        "r"
      ],
      "execution_count": 0,
      "outputs": []
    },
    {
      "cell_type": "markdown",
      "metadata": {
        "id": "ZmxTY9G2ALj4",
        "colab_type": "text"
      },
      "source": [
        "<br>\n",
        "## Copying Data"
      ]
    },
    {
      "cell_type": "markdown",
      "metadata": {
        "id": "On0nzAQ3ALj4",
        "colab_type": "text"
      },
      "source": [
        "Be careful with copying and modifying arrays in NumPy!\n",
        "\n",
        "\n",
        "`r2` is a slice of `r`"
      ]
    },
    {
      "cell_type": "code",
      "metadata": {
        "id": "eYSQBecvALj4",
        "colab_type": "code",
        "colab": {}
      },
      "source": [
        "r2 = r[:3,:3]\n",
        "r2"
      ],
      "execution_count": 0,
      "outputs": []
    },
    {
      "cell_type": "markdown",
      "metadata": {
        "id": "LUnzooetALj6",
        "colab_type": "text"
      },
      "source": [
        "<br>\n",
        "Set this slice's values to zero ([:] selects the entire array)"
      ]
    },
    {
      "cell_type": "code",
      "metadata": {
        "id": "lg1d73_uALj6",
        "colab_type": "code",
        "colab": {}
      },
      "source": [
        "r2[:] = 0\n",
        "r2"
      ],
      "execution_count": 0,
      "outputs": []
    },
    {
      "cell_type": "markdown",
      "metadata": {
        "id": "UHlRuzqMALj9",
        "colab_type": "text"
      },
      "source": [
        "<br>\n",
        "`r` has also been changed!"
      ]
    },
    {
      "cell_type": "code",
      "metadata": {
        "id": "cjAjZ-QzALj-",
        "colab_type": "code",
        "colab": {}
      },
      "source": [
        "r"
      ],
      "execution_count": 0,
      "outputs": []
    },
    {
      "cell_type": "markdown",
      "metadata": {
        "id": "VHzDxbv5ALj_",
        "colab_type": "text"
      },
      "source": [
        "<br>\n",
        "To avoid this, use `r.copy` to create a copy that will not affect the original array"
      ]
    },
    {
      "cell_type": "code",
      "metadata": {
        "id": "45K7LAYDALj_",
        "colab_type": "code",
        "colab": {}
      },
      "source": [
        "r_copy = r.copy()\n",
        "r_copy"
      ],
      "execution_count": 0,
      "outputs": []
    },
    {
      "cell_type": "markdown",
      "metadata": {
        "id": "PToHLRAhALkC",
        "colab_type": "text"
      },
      "source": [
        "<br>\n",
        "Now when r_copy is modified, r will not be changed."
      ]
    },
    {
      "cell_type": "code",
      "metadata": {
        "id": "PUf5_erLALkC",
        "colab_type": "code",
        "colab": {}
      },
      "source": [
        "r_copy[:] = 10\n",
        "print(r_copy, '\\n')\n",
        "print(r)"
      ],
      "execution_count": 0,
      "outputs": []
    },
    {
      "cell_type": "markdown",
      "metadata": {
        "id": "Z4e1cyDZALkH",
        "colab_type": "text"
      },
      "source": [
        "<br>\n",
        "### Iterating Over Arrays"
      ]
    },
    {
      "cell_type": "markdown",
      "metadata": {
        "id": "OzhRyCkCALkI",
        "colab_type": "text"
      },
      "source": [
        "Let's create a new 4 by 3 array of random numbers 0-9."
      ]
    },
    {
      "cell_type": "code",
      "metadata": {
        "id": "0NZzuWFdALkI",
        "colab_type": "code",
        "colab": {}
      },
      "source": [
        "test = np.random.randint(0, 10, (4,3))\n",
        "test"
      ],
      "execution_count": 0,
      "outputs": []
    },
    {
      "cell_type": "markdown",
      "metadata": {
        "id": "jEWsIWiXALkK",
        "colab_type": "text"
      },
      "source": [
        "<br>\n",
        "Iterate by row:"
      ]
    },
    {
      "cell_type": "code",
      "metadata": {
        "id": "qgyjgbfqALkK",
        "colab_type": "code",
        "colab": {}
      },
      "source": [
        "for row in test:\n",
        "    print(row)"
      ],
      "execution_count": 0,
      "outputs": []
    },
    {
      "cell_type": "markdown",
      "metadata": {
        "id": "urGjIdEQALkN",
        "colab_type": "text"
      },
      "source": [
        "<br>\n",
        "Iterate by index:"
      ]
    },
    {
      "cell_type": "code",
      "metadata": {
        "id": "GnkI0IM0ALkO",
        "colab_type": "code",
        "colab": {}
      },
      "source": [
        "for i in range(len(test)):\n",
        "    print(test[i])"
      ],
      "execution_count": 0,
      "outputs": []
    },
    {
      "cell_type": "markdown",
      "metadata": {
        "id": "4B9XN-H0ALkP",
        "colab_type": "text"
      },
      "source": [
        "<br>\n",
        "Iterate by row and index:"
      ]
    },
    {
      "cell_type": "code",
      "metadata": {
        "id": "GJh6IJ8yALkP",
        "colab_type": "code",
        "colab": {}
      },
      "source": [
        "for i, row in enumerate(test):\n",
        "    print('row', i, 'is', row)"
      ],
      "execution_count": 0,
      "outputs": []
    },
    {
      "cell_type": "markdown",
      "metadata": {
        "id": "5DAN31UmALkQ",
        "colab_type": "text"
      },
      "source": [
        "<br>\n",
        "Use `zip` to iterate over multiple iterables."
      ]
    },
    {
      "cell_type": "code",
      "metadata": {
        "id": "EuCm9VVKALkR",
        "colab_type": "code",
        "colab": {}
      },
      "source": [
        "test2 = test**2\n",
        "test2"
      ],
      "execution_count": 0,
      "outputs": []
    },
    {
      "cell_type": "code",
      "metadata": {
        "id": "0TDO1rf-ALkS",
        "colab_type": "code",
        "colab": {}
      },
      "source": [
        "for i, j in zip(test, test2):\n",
        "    print(i,'+',j,'=',i+j)"
      ],
      "execution_count": 0,
      "outputs": []
    }
  ]
}